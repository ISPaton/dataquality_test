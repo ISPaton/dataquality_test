{
 "cells": [
  {
   "cell_type": "code",
   "execution_count": 1,
   "metadata": {},
   "outputs": [],
   "source": [
    "import pandas as pd\n",
    "import numpy as np\n",
    "from IPython.display import display\n",
    "import ipywidgets as widgets\n",
    "\n",
    "import seaborn as sns\n",
    "import matplotlib.pyplot as plt\n",
    "%matplotlib inline\n",
    "\n"
   ]
  },
  {
   "cell_type": "code",
   "execution_count": 2,
   "metadata": {},
   "outputs": [],
   "source": [
    "df_dataquality = pd.read_csv(\"dataquality_extract.csv\")\n",
    "\n",
    "#data cleaning and quality checks and fixes needed for nulls, NaNs etc"
   ]
  },
  {
   "cell_type": "code",
   "execution_count": 3,
   "metadata": {},
   "outputs": [
    {
     "data": {
      "application/vnd.jupyter.widget-view+json": {
       "model_id": "7b20c340807c4fa2b7b7f153ca0398cf",
       "version_major": 2,
       "version_minor": 0
      },
      "text/plain": [
       "Dropdown(description='Theme: ', options=('ALL', 'Active Travel', 'Adopted Roads and Street Gazetteer', 'Agricu…"
      ]
     },
     "metadata": {},
     "output_type": "display_data"
    },
    {
     "data": {
      "application/vnd.jupyter.widget-view+json": {
       "model_id": "c82baf91acae4fe6ba0c3b06ca49ef0d",
       "version_major": 2,
       "version_minor": 0
      },
      "text/plain": [
       "Dropdown(description='Subcategory: ', options=('ALL', 'Active Travel _ Active Travel', 'Adopted Roads and Stre…"
      ]
     },
     "metadata": {},
     "output_type": "display_data"
    },
    {
     "data": {
      "application/vnd.jupyter.widget-view+json": {
       "model_id": "58883dac2e164ccfbca60204c0d98d89",
       "version_major": 2,
       "version_minor": 0
      },
      "text/plain": [
       "Output()"
      ]
     },
     "metadata": {},
     "output_type": "display_data"
    }
   ],
   "source": [
    "#creates the dropdown lists for all the dropdown options plus ALL\n",
    "ALL = 'ALL'\n",
    "def unique_sorted_values_plus_ALL(array):\n",
    "    unique = array.unique().tolist()\n",
    "    unique.sort()\n",
    "    unique.insert(0, ALL)\n",
    "    return unique\n",
    "\n",
    "output = widgets.Output()\n",
    "\n",
    "dropdown_theme = widgets.Dropdown(options = unique_sorted_values_plus_ALL(df_dataquality.theme), description = \"Theme: \")\n",
    "dropdown_subcategory = widgets.Dropdown(options = unique_sorted_values_plus_ALL(df_dataquality.subcategory), description = \"Subcategory: \")\n",
    "\n",
    "#below 2 lines are for future implementations - possibly tickboxes - to allow filtering by planning role (NPF) and source (internal/external) that need full population\n",
    "#dropdown_planning_role = widgets.Dropdown(options = unique_sorted_values_plus_ALL(df_dataquality.planning_role), description = \"Planning Role: \")\n",
    "#dropdown_source = widgets.Dropdown(options = unique_sorted_values_plus_ALL(df_dataquality.source), description = \"Source: \")\n",
    "\n",
    "#df for filtered output\n",
    "filtered_output = pd.DataFrame()\n",
    "\n",
    "#filtering logic\n",
    "\n",
    "def common_filtering(theme, subcategory):\n",
    "    \n",
    "    global filtered_output\n",
    "    output.clear_output()\n",
    "\n",
    "    if (theme == ALL) & (subcategory == ALL):\n",
    "        common_filter = df_dataquality\n",
    "    elif (theme == ALL):\n",
    "        common_filter = df_dataquality[df_dataquality.subcategory == subcategory]\n",
    "    elif (subcategory == ALL):\n",
    "        common_filter = df_dataquality[df_dataquality.theme == theme]\n",
    "    else:\n",
    "        common_filter = df_dataquality[(df_dataquality.theme == theme) & \n",
    "                                  (df_dataquality.subcategory == subcategory)]\n",
    "    \n",
    "    with output:\n",
    "        display(common_filter)\n",
    "    \n",
    "    filtered_output = common_filter\n",
    "\n",
    "\n",
    "def dropdown_theme_eventhandler(change):\n",
    "    common_filtering(change.new, dropdown_subcategory.value)\n",
    "    \n",
    "def dropdown_subcategory_eventhandler(change):\n",
    "    common_filtering(dropdown_theme.value, change.new)\n",
    "        \n",
    "dropdown_theme.observe(dropdown_theme_eventhandler, names='value')\n",
    "dropdown_subcategory.observe(dropdown_subcategory_eventhandler, names='value')\n",
    "\n",
    "display(dropdown_theme)\n",
    "display(dropdown_subcategory)\n",
    "#display(dropdown_planning_role)\n",
    "#display(dropdown_source)\n",
    "display(output)\n",
    "\n",
    "\n"
   ]
  },
  {
   "cell_type": "code",
   "execution_count": 5,
   "metadata": {},
   "outputs": [
    {
     "data": {
      "text/plain": [
       "<bound method NDFrame.describe of                                                dataset  \\\n",
       "390  Scottish Postcode Directory - Postcode Boundar...   \n",
       "391  Scottish Postcode Directory - Postcode Distric...   \n",
       "392  Scottish Postcode Directory - Postcode Distric...   \n",
       "393  Scottish Postcode Directory - Postcode Grid Re...   \n",
       "394  Scottish Postcode Directory - Postcode Sectors...   \n",
       "395  Scottish Postcode Directory - Postcode Sectors...   \n",
       "396             Settlement Centroids (Related dataset)   \n",
       "397        Settlements (Urban Areas) (Related dataset)   \n",
       "\n",
       "                            owner                theme  \\\n",
       "390  National Records of Scotland  Postcode Boundaries   \n",
       "391  National Records of Scotland  Postcode Boundaries   \n",
       "392  National Records of Scotland  Postcode Boundaries   \n",
       "393  National Records of Scotland  Postcode Boundaries   \n",
       "394  National Records of Scotland  Postcode Boundaries   \n",
       "395  National Records of Scotland  Postcode Boundaries   \n",
       "396  National Records of Scotland  Postcode Boundaries   \n",
       "397  National Records of Scotland  Postcode Boundaries   \n",
       "\n",
       "                                   subcategory npf_theme planning_role  \\\n",
       "390  Postcode Boundaries _ Postcode Boundaries       NaN           NaN   \n",
       "391  Postcode Boundaries _ Postcode Boundaries       NaN           NaN   \n",
       "392  Postcode Boundaries _ Postcode Boundaries       NaN           NaN   \n",
       "393  Postcode Boundaries _ Postcode Boundaries       NaN           NaN   \n",
       "394  Postcode Boundaries _ Postcode Boundaries       NaN           NaN   \n",
       "395  Postcode Boundaries _ Postcode Boundaries       NaN           NaN   \n",
       "396  Postcode Boundaries _ Postcode Boundaries       NaN           NaN   \n",
       "397  Postcode Boundaries _ Postcode Boundaries       NaN           NaN   \n",
       "\n",
       "     priority    source                                        description  \\\n",
       "390       NaN  External  While Royal Mail (RM) allocate and maintain po...   \n",
       "391       NaN  External  While Royal Mail (RM) allocate and maintain po...   \n",
       "392       NaN  External  While Royal Mail (RM) allocate and maintain po...   \n",
       "393       NaN  External  While Royal Mail (RM) allocate and maintain po...   \n",
       "394       NaN  External  While Royal Mail (RM) allocate and maintain po...   \n",
       "395       NaN  External  While Royal Mail (RM) allocate and maintain po...   \n",
       "396       NaN  External  National Records of Scotland (NRS) create and ...   \n",
       "397       NaN  External  National Records of Scotland (NRS) create and ...   \n",
       "\n",
       "    legislation  ...  total_attributes mandatory_att_reqd  \\\n",
       "390         NaN  ...               NaN                NaN   \n",
       "391         NaN  ...               NaN                NaN   \n",
       "392         NaN  ...               NaN                NaN   \n",
       "393         NaN  ...               NaN                NaN   \n",
       "394         NaN  ...               NaN                NaN   \n",
       "395         NaN  ...               NaN                NaN   \n",
       "396         NaN  ...               NaN                NaN   \n",
       "397         NaN  ...               NaN                NaN   \n",
       "\n",
       "    mandatory_att_actual time_series  date address uprn url unique_id  \\\n",
       "390                  NaN         NaN   NaN     NaN  NaN NaN       NaN   \n",
       "391                  NaN         NaN   NaN     NaN  NaN NaN       NaN   \n",
       "392                  NaN         NaN   NaN     NaN  NaN NaN       NaN   \n",
       "393                  NaN         NaN   NaN     NaN  NaN NaN       NaN   \n",
       "394                  NaN         NaN   NaN     NaN  NaN NaN       NaN   \n",
       "395                  NaN         NaN   NaN     NaN  NaN NaN       NaN   \n",
       "396                  NaN         NaN   NaN     NaN  NaN NaN       NaN   \n",
       "397                  NaN         NaN   NaN     NaN  NaN NaN       NaN   \n",
       "\n",
       "     linking_referencing  \n",
       "390                  NaN  \n",
       "391                  NaN  \n",
       "392                  NaN  \n",
       "393                  NaN  \n",
       "394                  NaN  \n",
       "395                  NaN  \n",
       "396                  NaN  \n",
       "397                  NaN  \n",
       "\n",
       "[8 rows x 34 columns]>"
      ]
     },
     "execution_count": 5,
     "metadata": {},
     "output_type": "execute_result"
    }
   ],
   "source": [
    "filtered_output.describe\n",
    "#filtered_output.groupby('theme')\n",
    "#filtered_output.describe\n",
    "\n"
   ]
  },
  {
   "cell_type": "code",
   "execution_count": null,
   "metadata": {},
   "outputs": [],
   "source": []
  }
 ],
 "metadata": {
  "kernelspec": {
   "display_name": "Python 3",
   "language": "python",
   "name": "python3"
  },
  "language_info": {
   "codemirror_mode": {
    "name": "ipython",
    "version": 3
   },
   "file_extension": ".py",
   "mimetype": "text/x-python",
   "name": "python",
   "nbconvert_exporter": "python",
   "pygments_lexer": "ipython3",
   "version": "3.7.6"
  }
 },
 "nbformat": 4,
 "nbformat_minor": 4
}
